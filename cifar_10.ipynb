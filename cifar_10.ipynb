{
  "nbformat": 4,
  "nbformat_minor": 0,
  "metadata": {
    "colab": {
      "name": "cifar-10.ipynb",
      "provenance": [],
      "authorship_tag": "ABX9TyOYaN/4Lq8xopryf5w++aaq",
      "include_colab_link": true
    },
    "kernelspec": {
      "name": "python3",
      "display_name": "Python 3"
    }
  },
  "cells": [
    {
      "cell_type": "markdown",
      "metadata": {
        "id": "view-in-github",
        "colab_type": "text"
      },
      "source": [
        "<a href=\"https://colab.research.google.com/github/yuyuyu-26/DQ-practice.rb/blob/master/cifar_10.ipynb\" target=\"_parent\"><img src=\"https://colab.research.google.com/assets/colab-badge.svg\" alt=\"Open In Colab\"/></a>"
      ]
    },
    {
      "cell_type": "markdown",
      "metadata": {
        "id": "G4ZE5vqztsuu"
      },
      "source": [
        "概要・考察<br>\r\n",
        "今回はCIFAR-10と呼ばれる画像データ(5万枚の32x32ピクセルのカラーの画像データと、それを分類する10個のラベル)を使用して、画像分類問題に取り組みました。結果から言うと、学習結果は81.54%の精度で分類、学習させたモデルを使用してのテストデータの分類は80.72%での精度の分類をすることができました。初めてのモデル作成にしては自分なりには頑張ったと思います。<br>\r\n",
        "実装に当たっては分類問題であったため、softmax関数を使用してone-hotベクトルにてわかりやすいようにしたところ/学習させる際のエポック数は10にしようとしていましたが、少なすぎると上手く学習されないと考え40にしました(実行に2時間)。<br>\r\n",
        "今回出た精度をさらに高めていくためには、過学習についてもより考えなくてはならないと思いました。そのためには損失関数の動きをよく見て、KerasではEarly stoppingというメソッドがあるみたいなので、これを上手く使用すればまたさらに良くなりそうかな？と思います。<br>\r\n",
        "今回の初実装は講義で学んだ基礎知識を使用しつつ、Kerasのドキュメントを読みながら行いました。基本的にKerasのドキュメントにどうコードを書けば実装できるのか書いてあったので、それを参考にしつつ実装した結果、なんとか作成できました。\r\n"
      ]
    },
    {
      "cell_type": "code",
      "metadata": {
        "id": "Wv7qn8pI-ojO"
      },
      "source": [
        "import numpy as np\r\n",
        "import matplotlib.pyplot as plt\r\n",
        "import dlt\r\n",
        "import os\r\n",
        "\r\n",
        "from keras.models import Sequential\r\n",
        "from keras.layers import Dense, Dropout, Activation, Conv2D, MaxPooling2D, Flatten\r\n",
        "from keras.optimizers import Adam\r\n",
        "from keras.utils.np_utils import to_categorical"
      ],
      "execution_count": 4,
      "outputs": []
    },
    {
      "cell_type": "code",
      "metadata": {
        "colab": {
          "base_uri": "https://localhost:8080/"
        },
        "id": "Z4NxeprLAniL",
        "outputId": "c2a93115-06f0-4842-bbce-d177a1462bf4"
      },
      "source": [
        "data = dlt.cifar.load_cifar10()"
      ],
      "execution_count": 5,
      "outputs": [
        {
          "output_type": "stream",
          "text": [
            "Downloading CIFAR-10 dataset\n",
            "Downloading data from https://www.cs.toronto.edu/~kriz/cifar-10-python.tar.gz\n",
            "170500096/170498071 [==============================] - 3s 0us/step\n"
          ],
          "name": "stdout"
        }
      ]
    },
    {
      "cell_type": "code",
      "metadata": {
        "colab": {
          "base_uri": "https://localhost:8080/"
        },
        "id": "EmK1otBsB_t5",
        "outputId": "fcfc0c2a-dced-40f1-90fc-a97e9c75c650"
      },
      "source": [
        "pip install dlt"
      ],
      "execution_count": 3,
      "outputs": [
        {
          "output_type": "stream",
          "text": [
            "Collecting dlt\n",
            "  Downloading https://files.pythonhosted.org/packages/34/3b/313449ab71dc7fecca4b3cd645bea0dcec9cf36bd772f93075bc185952c2/dlt-0.2.3-py3-none-any.whl\n",
            "Requirement already satisfied: Numpy in /usr/local/lib/python3.6/dist-packages (from dlt) (1.19.5)\n",
            "Requirement already satisfied: keras in /usr/local/lib/python3.6/dist-packages (from dlt) (2.4.3)\n",
            "Requirement already satisfied: tensorflow in /usr/local/lib/python3.6/dist-packages (from dlt) (2.4.0)\n",
            "Requirement already satisfied: matplotlib in /usr/local/lib/python3.6/dist-packages (from dlt) (3.2.2)\n",
            "Requirement already satisfied: scikit-learn in /usr/local/lib/python3.6/dist-packages (from dlt) (0.22.2.post1)\n",
            "Requirement already satisfied: h5py in /usr/local/lib/python3.6/dist-packages (from keras->dlt) (2.10.0)\n",
            "Requirement already satisfied: scipy>=0.14 in /usr/local/lib/python3.6/dist-packages (from keras->dlt) (1.4.1)\n",
            "Requirement already satisfied: pyyaml in /usr/local/lib/python3.6/dist-packages (from keras->dlt) (3.13)\n",
            "Requirement already satisfied: flatbuffers~=1.12.0 in /usr/local/lib/python3.6/dist-packages (from tensorflow->dlt) (1.12)\n",
            "Requirement already satisfied: six~=1.15.0 in /usr/local/lib/python3.6/dist-packages (from tensorflow->dlt) (1.15.0)\n",
            "Requirement already satisfied: absl-py~=0.10 in /usr/local/lib/python3.6/dist-packages (from tensorflow->dlt) (0.10.0)\n",
            "Requirement already satisfied: opt-einsum~=3.3.0 in /usr/local/lib/python3.6/dist-packages (from tensorflow->dlt) (3.3.0)\n",
            "Requirement already satisfied: termcolor~=1.1.0 in /usr/local/lib/python3.6/dist-packages (from tensorflow->dlt) (1.1.0)\n",
            "Requirement already satisfied: google-pasta~=0.2 in /usr/local/lib/python3.6/dist-packages (from tensorflow->dlt) (0.2.0)\n",
            "Requirement already satisfied: astunparse~=1.6.3 in /usr/local/lib/python3.6/dist-packages (from tensorflow->dlt) (1.6.3)\n",
            "Requirement already satisfied: wrapt~=1.12.1 in /usr/local/lib/python3.6/dist-packages (from tensorflow->dlt) (1.12.1)\n",
            "Requirement already satisfied: typing-extensions~=3.7.4 in /usr/local/lib/python3.6/dist-packages (from tensorflow->dlt) (3.7.4.3)\n",
            "Requirement already satisfied: keras-preprocessing~=1.1.2 in /usr/local/lib/python3.6/dist-packages (from tensorflow->dlt) (1.1.2)\n",
            "Requirement already satisfied: wheel~=0.35 in /usr/local/lib/python3.6/dist-packages (from tensorflow->dlt) (0.36.2)\n",
            "Requirement already satisfied: gast==0.3.3 in /usr/local/lib/python3.6/dist-packages (from tensorflow->dlt) (0.3.3)\n",
            "Requirement already satisfied: tensorboard~=2.4 in /usr/local/lib/python3.6/dist-packages (from tensorflow->dlt) (2.4.0)\n",
            "Requirement already satisfied: grpcio~=1.32.0 in /usr/local/lib/python3.6/dist-packages (from tensorflow->dlt) (1.32.0)\n",
            "Requirement already satisfied: protobuf>=3.9.2 in /usr/local/lib/python3.6/dist-packages (from tensorflow->dlt) (3.12.4)\n",
            "Requirement already satisfied: tensorflow-estimator<2.5.0,>=2.4.0rc0 in /usr/local/lib/python3.6/dist-packages (from tensorflow->dlt) (2.4.0)\n",
            "Requirement already satisfied: cycler>=0.10 in /usr/local/lib/python3.6/dist-packages (from matplotlib->dlt) (0.10.0)\n",
            "Requirement already satisfied: python-dateutil>=2.1 in /usr/local/lib/python3.6/dist-packages (from matplotlib->dlt) (2.8.1)\n",
            "Requirement already satisfied: pyparsing!=2.0.4,!=2.1.2,!=2.1.6,>=2.0.1 in /usr/local/lib/python3.6/dist-packages (from matplotlib->dlt) (2.4.7)\n",
            "Requirement already satisfied: kiwisolver>=1.0.1 in /usr/local/lib/python3.6/dist-packages (from matplotlib->dlt) (1.3.1)\n",
            "Requirement already satisfied: joblib>=0.11 in /usr/local/lib/python3.6/dist-packages (from scikit-learn->dlt) (1.0.0)\n",
            "Requirement already satisfied: google-auth<2,>=1.6.3 in /usr/local/lib/python3.6/dist-packages (from tensorboard~=2.4->tensorflow->dlt) (1.17.2)\n",
            "Requirement already satisfied: markdown>=2.6.8 in /usr/local/lib/python3.6/dist-packages (from tensorboard~=2.4->tensorflow->dlt) (3.3.3)\n",
            "Requirement already satisfied: requests<3,>=2.21.0 in /usr/local/lib/python3.6/dist-packages (from tensorboard~=2.4->tensorflow->dlt) (2.23.0)\n",
            "Requirement already satisfied: google-auth-oauthlib<0.5,>=0.4.1 in /usr/local/lib/python3.6/dist-packages (from tensorboard~=2.4->tensorflow->dlt) (0.4.2)\n",
            "Requirement already satisfied: tensorboard-plugin-wit>=1.6.0 in /usr/local/lib/python3.6/dist-packages (from tensorboard~=2.4->tensorflow->dlt) (1.7.0)\n",
            "Requirement already satisfied: werkzeug>=0.11.15 in /usr/local/lib/python3.6/dist-packages (from tensorboard~=2.4->tensorflow->dlt) (1.0.1)\n",
            "Requirement already satisfied: setuptools>=41.0.0 in /usr/local/lib/python3.6/dist-packages (from tensorboard~=2.4->tensorflow->dlt) (51.1.1)\n",
            "Requirement already satisfied: rsa<5,>=3.1.4; python_version >= \"3\" in /usr/local/lib/python3.6/dist-packages (from google-auth<2,>=1.6.3->tensorboard~=2.4->tensorflow->dlt) (4.6)\n",
            "Requirement already satisfied: cachetools<5.0,>=2.0.0 in /usr/local/lib/python3.6/dist-packages (from google-auth<2,>=1.6.3->tensorboard~=2.4->tensorflow->dlt) (4.2.0)\n",
            "Requirement already satisfied: pyasn1-modules>=0.2.1 in /usr/local/lib/python3.6/dist-packages (from google-auth<2,>=1.6.3->tensorboard~=2.4->tensorflow->dlt) (0.2.8)\n",
            "Requirement already satisfied: importlib-metadata; python_version < \"3.8\" in /usr/local/lib/python3.6/dist-packages (from markdown>=2.6.8->tensorboard~=2.4->tensorflow->dlt) (3.3.0)\n",
            "Requirement already satisfied: urllib3!=1.25.0,!=1.25.1,<1.26,>=1.21.1 in /usr/local/lib/python3.6/dist-packages (from requests<3,>=2.21.0->tensorboard~=2.4->tensorflow->dlt) (1.24.3)\n",
            "Requirement already satisfied: idna<3,>=2.5 in /usr/local/lib/python3.6/dist-packages (from requests<3,>=2.21.0->tensorboard~=2.4->tensorflow->dlt) (2.10)\n",
            "Requirement already satisfied: certifi>=2017.4.17 in /usr/local/lib/python3.6/dist-packages (from requests<3,>=2.21.0->tensorboard~=2.4->tensorflow->dlt) (2020.12.5)\n",
            "Requirement already satisfied: chardet<4,>=3.0.2 in /usr/local/lib/python3.6/dist-packages (from requests<3,>=2.21.0->tensorboard~=2.4->tensorflow->dlt) (3.0.4)\n",
            "Requirement already satisfied: requests-oauthlib>=0.7.0 in /usr/local/lib/python3.6/dist-packages (from google-auth-oauthlib<0.5,>=0.4.1->tensorboard~=2.4->tensorflow->dlt) (1.3.0)\n",
            "Requirement already satisfied: pyasn1>=0.1.3 in /usr/local/lib/python3.6/dist-packages (from rsa<5,>=3.1.4; python_version >= \"3\"->google-auth<2,>=1.6.3->tensorboard~=2.4->tensorflow->dlt) (0.4.8)\n",
            "Requirement already satisfied: zipp>=0.5 in /usr/local/lib/python3.6/dist-packages (from importlib-metadata; python_version < \"3.8\"->markdown>=2.6.8->tensorboard~=2.4->tensorflow->dlt) (3.4.0)\n",
            "Requirement already satisfied: oauthlib>=3.0.0 in /usr/local/lib/python3.6/dist-packages (from requests-oauthlib>=0.7.0->google-auth-oauthlib<0.5,>=0.4.1->tensorboard~=2.4->tensorflow->dlt) (3.1.0)\n",
            "Installing collected packages: dlt\n",
            "Successfully installed dlt-0.2.3\n"
          ],
          "name": "stdout"
        }
      ]
    },
    {
      "cell_type": "code",
      "metadata": {
        "colab": {
          "base_uri": "https://localhost:8080/"
        },
        "id": "Ri0CiRcTCYLa",
        "outputId": "a75e5d7d-addd-4379-95fa-c4eb5485c549"
      },
      "source": [
        "#学習用の画像とラベル\r\n",
        "print(data.train_images.shape)\r\n",
        "print(data.train_labels.shape)\r\n",
        "\r\n",
        "#テスト用の画像とラベル\r\n",
        "print(data.test_images.shape)\r\n",
        "print(data.test_labels.shape)"
      ],
      "execution_count": 6,
      "outputs": [
        {
          "output_type": "stream",
          "text": [
            "(50000, 32, 32, 3)\n",
            "(50000, 1)\n",
            "(10000, 32, 32, 3)\n",
            "(10000, 1)\n"
          ],
          "name": "stdout"
        }
      ]
    },
    {
      "cell_type": "code",
      "metadata": {
        "id": "d8FdweagCrYA"
      },
      "source": [
        "dlt.utils.plot_examples(data, fname='examples.png')"
      ],
      "execution_count": 7,
      "outputs": []
    },
    {
      "cell_type": "code",
      "metadata": {
        "colab": {
          "base_uri": "https://localhost:8080/"
        },
        "id": "C2i4WhERGn9Q",
        "outputId": "153de946-4d3b-4527-cb81-cc436fa3e529"
      },
      "source": [
        "X_train = data.train_images.reshape([-1, 32, 32, 3])\r\n",
        "X_test = data.test_images.reshape([-1, 32, 32, 3])\r\n",
        "\r\n",
        "print('%i training samples' % X_train.shape[0])\r\n",
        "print('%i test samples' % X_test.shape[0])\r\n",
        "\r\n",
        "print(X_train.shape)\r\n",
        "print(X_test.shape)"
      ],
      "execution_count": 8,
      "outputs": [
        {
          "output_type": "stream",
          "text": [
            "50000 training samples\n",
            "10000 test samples\n",
            "(50000, 32, 32, 3)\n",
            "(10000, 32, 32, 3)\n"
          ],
          "name": "stdout"
        }
      ]
    },
    {
      "cell_type": "code",
      "metadata": {
        "id": "CvD8SLoNHuDB"
      },
      "source": [
        "X_train = X_train.astype('float32') / 255 #0～1までの間に正規化\r\n",
        "X_test = X_test.astype('float32') / 255"
      ],
      "execution_count": 9,
      "outputs": []
    },
    {
      "cell_type": "code",
      "metadata": {
        "colab": {
          "base_uri": "https://localhost:8080/"
        },
        "id": "c5AEndK_IF9r",
        "outputId": "da152a3b-46ee-446d-f55f-d9489bffdcb8"
      },
      "source": [
        "print(data.train_labels[:5])"
      ],
      "execution_count": 10,
      "outputs": [
        {
          "output_type": "stream",
          "text": [
            "[[6]\n",
            " [9]\n",
            " [9]\n",
            " [4]\n",
            " [1]]\n"
          ],
          "name": "stdout"
        }
      ]
    },
    {
      "cell_type": "code",
      "metadata": {
        "id": "2tRfFQhPIpOR"
      },
      "source": [
        "Y_train = to_categorical(data.train_labels, 10)\r\n",
        "Y_test = to_categorical(data.test_labels, 10)"
      ],
      "execution_count": 11,
      "outputs": []
    },
    {
      "cell_type": "code",
      "metadata": {
        "id": "RfFsNA4_JGQ0"
      },
      "source": [
        "num_classes = 10\r\n",
        "model = Sequential()\r\n",
        "# CNN layer 1\r\n",
        "model.add(Conv2D(32, (3, 3), padding='same', #conv2DにてCNN実装\r\n",
        "                 input_shape=X_train.shape[1:])) #出力画像のサイズが変わらないように「padding=’same’」でパディングを実施。\r\n",
        "model.add(Activation('relu')) #relu関数使用\r\n",
        "model.add(Conv2D(32, (3, 3))) #3×3のフィルターを32枚\r\n",
        "model.add(Activation('relu'))\r\n",
        "model.add(MaxPooling2D(pool_size=(2, 2))) #「2×2」の大きさの最大プーリング層。入力画像内の「2×2」の領域で最大の数値を出力する。\r\n",
        "model.add(Dropout(0.25)) #ドロップアウトによる過学習予防。全結合の層とのつながりを「25%」無効化。\r\n",
        "\r\n",
        "# CNN layer 2\r\n",
        "model.add(Conv2D(64, (3, 3), padding='same'))\r\n",
        "model.add(Activation('relu'))\r\n",
        "model.add(Conv2D(64, (3, 3)))\r\n",
        "model.add(Activation('relu'))\r\n",
        "model.add(MaxPooling2D(pool_size=(2, 2)))\r\n",
        "model.add(Dropout(0.25))\r\n",
        "\r\n",
        "# output\r\n",
        "model.add(Flatten()) #1次元ベクトルに変換\r\n",
        "model.add(Dense(512)) #全結合層。出力は512。\r\n",
        "model.add(Activation('relu'))\r\n",
        "model.add(Dropout(0.5))\r\n",
        "model.add(Dense(num_classes)) #num_classes=10。0～9までの数値で判定するため。\r\n",
        "model.add(Activation('softmax')) #softmax関数により、総和が1になるよう調整"
      ],
      "execution_count": 12,
      "outputs": []
    },
    {
      "cell_type": "code",
      "metadata": {
        "colab": {
          "base_uri": "https://localhost:8080/"
        },
        "id": "H74Qhw0aKujq",
        "outputId": "f36da07d-426c-43ed-d58b-2d39fa5de332"
      },
      "source": [
        "print(model.summary())"
      ],
      "execution_count": 13,
      "outputs": [
        {
          "output_type": "stream",
          "text": [
            "Model: \"sequential\"\n",
            "_________________________________________________________________\n",
            "Layer (type)                 Output Shape              Param #   \n",
            "=================================================================\n",
            "conv2d (Conv2D)              (None, 32, 32, 32)        896       \n",
            "_________________________________________________________________\n",
            "activation (Activation)      (None, 32, 32, 32)        0         \n",
            "_________________________________________________________________\n",
            "conv2d_1 (Conv2D)            (None, 30, 30, 32)        9248      \n",
            "_________________________________________________________________\n",
            "activation_1 (Activation)    (None, 30, 30, 32)        0         \n",
            "_________________________________________________________________\n",
            "max_pooling2d (MaxPooling2D) (None, 15, 15, 32)        0         \n",
            "_________________________________________________________________\n",
            "dropout (Dropout)            (None, 15, 15, 32)        0         \n",
            "_________________________________________________________________\n",
            "conv2d_2 (Conv2D)            (None, 15, 15, 64)        18496     \n",
            "_________________________________________________________________\n",
            "activation_2 (Activation)    (None, 15, 15, 64)        0         \n",
            "_________________________________________________________________\n",
            "conv2d_3 (Conv2D)            (None, 13, 13, 64)        36928     \n",
            "_________________________________________________________________\n",
            "activation_3 (Activation)    (None, 13, 13, 64)        0         \n",
            "_________________________________________________________________\n",
            "max_pooling2d_1 (MaxPooling2 (None, 6, 6, 64)          0         \n",
            "_________________________________________________________________\n",
            "dropout_1 (Dropout)          (None, 6, 6, 64)          0         \n",
            "_________________________________________________________________\n",
            "flatten (Flatten)            (None, 2304)              0         \n",
            "_________________________________________________________________\n",
            "dense (Dense)                (None, 512)               1180160   \n",
            "_________________________________________________________________\n",
            "activation_4 (Activation)    (None, 512)               0         \n",
            "_________________________________________________________________\n",
            "dropout_2 (Dropout)          (None, 512)               0         \n",
            "_________________________________________________________________\n",
            "dense_1 (Dense)              (None, 10)                5130      \n",
            "_________________________________________________________________\n",
            "activation_5 (Activation)    (None, 10)                0         \n",
            "=================================================================\n",
            "Total params: 1,250,858\n",
            "Trainable params: 1,250,858\n",
            "Non-trainable params: 0\n",
            "_________________________________________________________________\n",
            "None\n"
          ],
          "name": "stdout"
        }
      ]
    },
    {
      "cell_type": "markdown",
      "metadata": {
        "id": "Ml78L3Lk0dW2"
      },
      "source": [
        "・学習<br>\r\n",
        "各コードに詳細記載"
      ]
    },
    {
      "cell_type": "code",
      "metadata": {
        "id": "941Xu9oQK5Oc"
      },
      "source": [
        "model.compile( #compile()でプロセス設定\r\n",
        "loss='categorical_crossentropy', # 損失関数の設定\r\n",
        "optimizer=Adam(lr=0.001), # 最適化法の指定\r\n",
        "metrics=['accuracy']) #評価関数の指定"
      ],
      "execution_count": 14,
      "outputs": []
    },
    {
      "cell_type": "code",
      "metadata": {
        "colab": {
          "base_uri": "https://localhost:8080/"
        },
        "id": "aXH9e2rDMc9R",
        "outputId": "07a18f6f-9ec7-49bb-d408-955b510758db"
      },
      "source": [
        "fit = model.fit(X_train, Y_train, #fit()で訓練実行\r\n",
        "              batch_size=128,\r\n",
        "              epochs=40, #10だと少ない？\r\n",
        "              verbose=1,\r\n",
        "              validation_split=0.1 # 今回は訓練データセットの10%をvalidationデータセットとして使う\r\n",
        "                )"
      ],
      "execution_count": 15,
      "outputs": [
        {
          "output_type": "stream",
          "text": [
            "Epoch 1/40\n",
            "352/352 [==============================] - 176s 498ms/step - loss: 1.8722 - accuracy: 0.3076 - val_loss: 1.2784 - val_accuracy: 0.5448\n",
            "Epoch 2/40\n",
            "352/352 [==============================] - 175s 497ms/step - loss: 1.2806 - accuracy: 0.5428 - val_loss: 1.1211 - val_accuracy: 0.6040\n",
            "Epoch 3/40\n",
            "352/352 [==============================] - 175s 498ms/step - loss: 1.0920 - accuracy: 0.6107 - val_loss: 0.9129 - val_accuracy: 0.6846\n",
            "Epoch 4/40\n",
            "352/352 [==============================] - 175s 497ms/step - loss: 0.9626 - accuracy: 0.6613 - val_loss: 0.8387 - val_accuracy: 0.7114\n",
            "Epoch 5/40\n",
            "352/352 [==============================] - 175s 497ms/step - loss: 0.8776 - accuracy: 0.6874 - val_loss: 0.7660 - val_accuracy: 0.7330\n",
            "Epoch 6/40\n",
            "352/352 [==============================] - 176s 499ms/step - loss: 0.8130 - accuracy: 0.7128 - val_loss: 0.7451 - val_accuracy: 0.7440\n",
            "Epoch 7/40\n",
            "352/352 [==============================] - 175s 498ms/step - loss: 0.7632 - accuracy: 0.7311 - val_loss: 0.6932 - val_accuracy: 0.7614\n",
            "Epoch 8/40\n",
            "352/352 [==============================] - 176s 500ms/step - loss: 0.7119 - accuracy: 0.7487 - val_loss: 0.6767 - val_accuracy: 0.7630\n",
            "Epoch 9/40\n",
            "352/352 [==============================] - 176s 499ms/step - loss: 0.6661 - accuracy: 0.7639 - val_loss: 0.6687 - val_accuracy: 0.7720\n",
            "Epoch 10/40\n",
            "352/352 [==============================] - 176s 499ms/step - loss: 0.6206 - accuracy: 0.7784 - val_loss: 0.6321 - val_accuracy: 0.7850\n",
            "Epoch 11/40\n",
            "352/352 [==============================] - 175s 498ms/step - loss: 0.5955 - accuracy: 0.7923 - val_loss: 0.6453 - val_accuracy: 0.7830\n",
            "Epoch 12/40\n",
            "352/352 [==============================] - 175s 497ms/step - loss: 0.5642 - accuracy: 0.7999 - val_loss: 0.6495 - val_accuracy: 0.7784\n",
            "Epoch 13/40\n",
            "352/352 [==============================] - 175s 498ms/step - loss: 0.5578 - accuracy: 0.8010 - val_loss: 0.6077 - val_accuracy: 0.7894\n",
            "Epoch 14/40\n",
            "352/352 [==============================] - 175s 498ms/step - loss: 0.5072 - accuracy: 0.8201 - val_loss: 0.5928 - val_accuracy: 0.8024\n",
            "Epoch 15/40\n",
            "352/352 [==============================] - 175s 497ms/step - loss: 0.4884 - accuracy: 0.8257 - val_loss: 0.5995 - val_accuracy: 0.8018\n",
            "Epoch 16/40\n",
            "352/352 [==============================] - 175s 497ms/step - loss: 0.4846 - accuracy: 0.8265 - val_loss: 0.5721 - val_accuracy: 0.8060\n",
            "Epoch 17/40\n",
            "352/352 [==============================] - 175s 496ms/step - loss: 0.4521 - accuracy: 0.8353 - val_loss: 0.5779 - val_accuracy: 0.8072\n",
            "Epoch 18/40\n",
            "352/352 [==============================] - 175s 497ms/step - loss: 0.4276 - accuracy: 0.8480 - val_loss: 0.5836 - val_accuracy: 0.8052\n",
            "Epoch 19/40\n",
            "352/352 [==============================] - 175s 497ms/step - loss: 0.4161 - accuracy: 0.8534 - val_loss: 0.5937 - val_accuracy: 0.8038\n",
            "Epoch 20/40\n",
            "352/352 [==============================] - 174s 495ms/step - loss: 0.4101 - accuracy: 0.8520 - val_loss: 0.5712 - val_accuracy: 0.8072\n",
            "Epoch 21/40\n",
            "352/352 [==============================] - 175s 496ms/step - loss: 0.4005 - accuracy: 0.8575 - val_loss: 0.5772 - val_accuracy: 0.8062\n",
            "Epoch 22/40\n",
            "352/352 [==============================] - 175s 497ms/step - loss: 0.3792 - accuracy: 0.8643 - val_loss: 0.5740 - val_accuracy: 0.8080\n",
            "Epoch 23/40\n",
            "352/352 [==============================] - 175s 496ms/step - loss: 0.3729 - accuracy: 0.8654 - val_loss: 0.5992 - val_accuracy: 0.8038\n",
            "Epoch 24/40\n",
            "352/352 [==============================] - 175s 496ms/step - loss: 0.3743 - accuracy: 0.8687 - val_loss: 0.5931 - val_accuracy: 0.8062\n",
            "Epoch 25/40\n",
            "352/352 [==============================] - 175s 497ms/step - loss: 0.3556 - accuracy: 0.8710 - val_loss: 0.5969 - val_accuracy: 0.8080\n",
            "Epoch 26/40\n",
            "352/352 [==============================] - 175s 497ms/step - loss: 0.3533 - accuracy: 0.8729 - val_loss: 0.5912 - val_accuracy: 0.8090\n",
            "Epoch 27/40\n",
            "352/352 [==============================] - 175s 498ms/step - loss: 0.3353 - accuracy: 0.8793 - val_loss: 0.5772 - val_accuracy: 0.8120\n",
            "Epoch 28/40\n",
            "352/352 [==============================] - 175s 496ms/step - loss: 0.3198 - accuracy: 0.8850 - val_loss: 0.6079 - val_accuracy: 0.8086\n",
            "Epoch 29/40\n",
            "352/352 [==============================] - 175s 497ms/step - loss: 0.3180 - accuracy: 0.8853 - val_loss: 0.5935 - val_accuracy: 0.8088\n",
            "Epoch 30/40\n",
            "352/352 [==============================] - 175s 497ms/step - loss: 0.3111 - accuracy: 0.8890 - val_loss: 0.6088 - val_accuracy: 0.8080\n",
            "Epoch 31/40\n",
            "352/352 [==============================] - 175s 497ms/step - loss: 0.3192 - accuracy: 0.8864 - val_loss: 0.5969 - val_accuracy: 0.8162\n",
            "Epoch 32/40\n",
            "352/352 [==============================] - 175s 497ms/step - loss: 0.2993 - accuracy: 0.8932 - val_loss: 0.6013 - val_accuracy: 0.8082\n",
            "Epoch 33/40\n",
            "352/352 [==============================] - 175s 496ms/step - loss: 0.2970 - accuracy: 0.8943 - val_loss: 0.6041 - val_accuracy: 0.8156\n",
            "Epoch 34/40\n",
            "352/352 [==============================] - 175s 496ms/step - loss: 0.2885 - accuracy: 0.8959 - val_loss: 0.6334 - val_accuracy: 0.8048\n",
            "Epoch 35/40\n",
            "352/352 [==============================] - 175s 497ms/step - loss: 0.2821 - accuracy: 0.8985 - val_loss: 0.6034 - val_accuracy: 0.8076\n",
            "Epoch 36/40\n",
            "352/352 [==============================] - 176s 499ms/step - loss: 0.2812 - accuracy: 0.9008 - val_loss: 0.6316 - val_accuracy: 0.8076\n",
            "Epoch 37/40\n",
            "352/352 [==============================] - 175s 498ms/step - loss: 0.2846 - accuracy: 0.8974 - val_loss: 0.6191 - val_accuracy: 0.8120\n",
            "Epoch 38/40\n",
            "352/352 [==============================] - 175s 497ms/step - loss: 0.2680 - accuracy: 0.9061 - val_loss: 0.6302 - val_accuracy: 0.8036\n",
            "Epoch 39/40\n",
            "352/352 [==============================] - 175s 496ms/step - loss: 0.2682 - accuracy: 0.9047 - val_loss: 0.6330 - val_accuracy: 0.8122\n",
            "Epoch 40/40\n",
            "352/352 [==============================] - 175s 497ms/step - loss: 0.2730 - accuracy: 0.9038 - val_loss: 0.6145 - val_accuracy: 0.8154\n"
          ],
          "name": "stdout"
        }
      ]
    },
    {
      "cell_type": "markdown",
      "metadata": {
        "id": "J0BZitZC3NhV"
      },
      "source": [
        "学習させた結果としておよそ81.54%の精度で分類できることがわかりました。"
      ]
    },
    {
      "cell_type": "markdown",
      "metadata": {
        "id": "j7c9Pljo1iXy"
      },
      "source": [
        "・評価<br>\r\n",
        "詳細は各コードに記載"
      ]
    },
    {
      "cell_type": "code",
      "metadata": {
        "colab": {
          "base_uri": "https://localhost:8080/"
        },
        "id": "6DyNmOuhMiW0",
        "outputId": "46dc12ea-3b7d-4ce5-a258-8594afef28a5"
      },
      "source": [
        "score = model.evaluate(X_test, Y_test, #evaluate()にて学習されたモデルがどの程度の精度を持ってテストデータを判定できるか(分類できるか)評価。\r\n",
        "                    verbose=0\r\n",
        "                    )\r\n",
        "\r\n",
        "print('Test score:', score[0])\r\n",
        "print('Test accuracy:', score[1])"
      ],
      "execution_count": 16,
      "outputs": [
        {
          "output_type": "stream",
          "text": [
            "Test score: 0.661607563495636\n",
            "Test accuracy: 0.8072999715805054\n"
          ],
          "name": "stdout"
        }
      ]
    },
    {
      "cell_type": "markdown",
      "metadata": {
        "id": "UOq59CEf2Clo"
      },
      "source": [
        "学習させた結果を用いてテストデータを分類させると80.72%の精度で正しく分類されることがわかりました。"
      ]
    },
    {
      "cell_type": "code",
      "metadata": {
        "id": "VzleW3LApS8q"
      },
      "source": [
        "folder = 'results'\r\n",
        "if not os.path.exists(folder):\r\n",
        "    os.makedirs(folder)\r\n",
        "\r\n",
        "model.save(os.path.join(folder, 'my_model.h5'))"
      ],
      "execution_count": 17,
      "outputs": []
    },
    {
      "cell_type": "code",
      "metadata": {
        "id": "iNrWLBF3phFu"
      },
      "source": [
        "preds = model.predict(X_test)\r\n",
        "cls = np.argmax(preds,axis=1)\r\n",
        "for i in range(10):\r\n",
        "    dlt.utils.plot_prediction(\r\n",
        "        preds[i],\r\n",
        "        data.test_images[i],\r\n",
        "        data.test_labels[i],\r\n",
        "        data.classes,\r\n",
        "        fname=os.path.join(folder, 'test-%i.png' % i))"
      ],
      "execution_count": 19,
      "outputs": []
    },
    {
      "cell_type": "code",
      "metadata": {
        "id": "zTE538CDp0E2"
      },
      "source": [
        "dlt.utils.plot_confusion_matrix(data.test_labels, cls, data.classes,\r\n",
        "                                  title='confusion matrix',\r\n",
        "                                  fname=os.path.join(folder, 'confusion_matrix.png'))"
      ],
      "execution_count": 20,
      "outputs": []
    },
    {
      "cell_type": "code",
      "metadata": {
        "id": "4FC6Z2Osq2V3"
      },
      "source": [
        ""
      ],
      "execution_count": null,
      "outputs": []
    }
  ]
}